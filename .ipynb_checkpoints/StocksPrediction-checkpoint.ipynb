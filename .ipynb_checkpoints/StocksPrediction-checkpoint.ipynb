{
 "cells": [
  {
   "cell_type": "code",
   "execution_count": 2,
   "metadata": {},
   "outputs": [
    {
     "name": "stderr",
     "output_type": "stream",
     "text": [
      "/anaconda/lib/python2.7/site-packages/matplotlib/font_manager.py:280: UserWarning: Matplotlib is building the font cache using fc-list. This may take a moment.\n",
      "  'Matplotlib is building the font cache using fc-list. '\n"
     ]
    }
   ],
   "source": [
    "import io, time, os, os.path\n",
    "import math,json, requests, urllib\n",
    "import pandas as pd\n",
    "import numpy as np\n",
    "import matplotlib.pyplot as plt\n"
   ]
  },
  {
   "cell_type": "code",
   "execution_count": 15,
   "metadata": {
    "scrolled": true
   },
   "outputs": [],
   "source": [
    "#this function returns blocks of 30 old messages after id of first message message.\n",
    "def getStocktwitsMessags (ticker, id):\n",
    "    response = requests.get('https://api.stocktwits.com/api/2/streams/symbol/%s.json?max=%d' % (ticker,  id))\n",
    "    if response.status_code == 200:\n",
    "        return json.loads(response.content)\n",
    "    #status 429 means user has submitted too many requests\n",
    "    elif response.status_code == 429:\n",
    "        return None\n",
    "    return None"
   ]
  },
  {
   "cell_type": "code",
   "execution_count": 18,
   "metadata": {},
   "outputs": [
    {
     "name": "stdout",
     "output_type": "stream",
     "text": [
      "\n",
      "Done\n"
     ]
    }
   ],
   "source": [
    "if not os.path.exists('./stockTwitsData'):\n",
    "    os.mkdir('./stockTwitsData')\n",
    "    \n",
    "def getStockTwitsData(ticker, iterations):\n",
    "    path = './stockTwitsData/%s.json' % ticker\n",
    "    if os.path.exists(path):\n",
    "        with open(path, 'r') as f:\n",
    "            #tweetsCounts = len(data)\n",
    "            data = json.load(f)\n",
    "            if len(data) > 0 :\n",
    "                lastMessageID = data[-1]['id']\n",
    "            else:\n",
    "                lastMessageID = 1000000000000\n",
    "    else:\n",
    "        data = []\n",
    "        lastMessageID = 1000000000000\n",
    "    \n",
    "    for i in range(iterations):\n",
    "        content = getStocktwitsMessags(ticker, lastMessageID)\n",
    "        \n",
    "        if content == None:\n",
    "            print 'Error from an API'\n",
    "            break\n",
    "        data.extend(content['messages'])\n",
    "        older_than = data[-1]['id']\n",
    "    \n",
    "    with open(path, 'w') as f:\n",
    "        json.dump(data, f)\n",
    "    print\n",
    "    print 'Done'\n",
    "\n",
    "    \n",
    "getStockTwitsData ('AMD', 30)"
   ]
  },
  {
   "cell_type": "code",
   "execution_count": null,
   "metadata": {
    "collapsed": true
   },
   "outputs": [],
   "source": []
  }
 ],
 "metadata": {
  "kernelspec": {
   "display_name": "Python 2",
   "language": "python",
   "name": "python2"
  },
  "language_info": {
   "codemirror_mode": {
    "name": "ipython",
    "version": 2
   },
   "file_extension": ".py",
   "mimetype": "text/x-python",
   "name": "python",
   "nbconvert_exporter": "python",
   "pygments_lexer": "ipython2",
   "version": "2.7.13"
  }
 },
 "nbformat": 4,
 "nbformat_minor": 2
}
